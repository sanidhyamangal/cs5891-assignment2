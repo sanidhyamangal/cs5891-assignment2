{
 "cells": [
  {
   "cell_type": "code",
   "execution_count": 1,
   "metadata": {},
   "outputs": [],
   "source": [
    "%load_ext autoreload\n",
    "%autoreload 2\n",
    "\n",
    "import numpy as np\n",
    "\n",
    "from simple_grid import simple_grid as gridworld\n",
    "from simple_grid_agent import GridworldAgent as Agent"
   ]
  },
  {
   "cell_type": "markdown",
   "metadata": {},
   "source": [
    "Read through all the classes and functions defined inside `simple_grid` environment and `GridworldAgent` to familiarize yourself with the details of this assignment.\n",
    "\n",
    "Consider a simple gridworld where actions do not result in deterministic state changes. We specify that there is a $20\\%$ probability that the selected action would result in a stochastic state transition"
   ]
  },
  {
   "cell_type": "code",
   "execution_count": 2,
   "metadata": {},
   "outputs": [],
   "source": [
    "#stochastic environment\n",
    "env = gridworld(wind_p=0.2)"
   ]
  },
  {
   "cell_type": "markdown",
   "metadata": {},
   "source": [
    "The following set of commands will help you familiarize with different components of the gridworld"
   ]
  },
  {
   "cell_type": "code",
   "execution_count": 3,
   "metadata": {},
   "outputs": [
    {
     "name": "stdout",
     "output_type": "stream",
     "text": [
      "\n",
      " Reward For each Tile \n",
      "\n",
      "\n",
      "----------\n",
      "0 |0 |0 |\n",
      "----------\n",
      "0 |-5 |5 |\n",
      "----------\n",
      "0 |0 |0 |"
     ]
    }
   ],
   "source": [
    "print('\\n Reward For each Tile \\n')\n",
    "env.print_reward()"
   ]
  },
  {
   "cell_type": "markdown",
   "metadata": {},
   "source": [
    "Check out the set of possible actions for the grid"
   ]
  },
  {
   "cell_type": "code",
   "execution_count": 4,
   "metadata": {},
   "outputs": [
    {
     "name": "stdout",
     "output_type": "stream",
     "text": [
      "\n",
      " Set of possible actions in numerical form. These are actual inputs to the gridworld agent \n",
      "\n",
      "[0 1 2 3]\n",
      "\n",
      " Set of possible actions in the grid in text form. They map 1 to 1 from numbers above to direction \n",
      "\n",
      "['U' 'L' 'D' 'R']\n"
     ]
    }
   ],
   "source": [
    "print('\\n Set of possible actions in numerical form. These are actual inputs to the gridworld agent \\n')\n",
    "print(env.action_space)\n",
    "\n",
    "print('\\n Set of possible actions in the grid in text form. They map 1 to 1 from numbers above to direction \\n')\n",
    "print(env.action_text)"
   ]
  },
  {
   "cell_type": "markdown",
   "metadata": {},
   "source": [
    "Consider a policy which tries to reach the goal state(+5) as fast as possible. Below we define the policy to evaluate the state values for this policy"
   ]
  },
  {
   "cell_type": "code",
   "execution_count": 5,
   "metadata": {},
   "outputs": [
    {
     "name": "stdout",
     "output_type": "stream",
     "text": [
      "\n",
      " Policy: Fastest Path to Goal State(Does not take reward into consideration) \n",
      "\n",
      "\n",
      "----------\n",
      "R |R |D |\n",
      "----------\n",
      "R |R |U |\n",
      "----------\n",
      "R |U |U |"
     ]
    }
   ],
   "source": [
    "#stochastic environment\n",
    "env = gridworld(wind_p=0.2)\n",
    "\n",
    "#initial policy\n",
    "policy_fast = {(0, 0): 3,\n",
    "          (0, 1): 3,\n",
    "          (0, 2): 2,\n",
    "          (1, 0): 3,\n",
    "          (1, 1): 3,\n",
    "          (1, 2): 0,\n",
    "          (2, 0): 3,\n",
    "          (2, 1): 0,\n",
    "          (2, 2): 0}\n",
    "\n",
    "#stochastic agent - epsilon greedy with decays\n",
    "a = Agent(env, policy = policy_fast, gamma = 0.9, \n",
    "            start_epsilon=0.9,end_epsilon=0.3,epsilon_decay=0.9)\n",
    "\n",
    "print('\\n Policy: Fastest Path to Goal State(Does not take reward into consideration) \\n')\n",
    "a.print_policy()"
   ]
  },
  {
   "cell_type": "markdown",
   "metadata": {},
   "source": [
    "**Q1**\n",
    "\n",
    "Implement the `get_v` and `get_q` methods to estimate the state value and state-action value in `simple_grid_agent.py`. These may be used later on for debugging your code"
   ]
  },
  {
   "cell_type": "markdown",
   "metadata": {},
   "source": [
    "**Q2** \n",
    "\n",
    "The Monte Carlo rollout itself has been implemented in `simple_grid_agent.py` inside the `run_episode` method.\n",
    "\n",
    "**Implement** \n",
    "\n",
    "First-visit as well as any-visit Monte Carlo state-value estimation equations inside `mc_predict_v` in `simple_grid_agent.py`.\n",
    "These have been discussed in class. Refer to Sutton and Barto Chapter 5 for further details to implement them.\n",
    "\n",
    "Test and report inside this notebook the results using the following commands. Are there sufficient differences in the state values under anyvisit and firstvisit MC Prediction? Why?\n",
    "\n",
    "NB: assume anyvist and everyvisit to be interchangeable terms"
   ]
  },
  {
   "cell_type": "code",
   "execution_count": 26,
   "metadata": {},
   "outputs": [
    {
     "name": "stdout",
     "output_type": "stream",
     "text": [
      "\n",
      " State Values for first_visit MC state estiamtion \n",
      "\n",
      "\n",
      "---------------\n",
      "0.0 |0.0 |0.0 |\n",
      "---------------\n",
      "-0.0 |0.0 |0 |\n",
      "---------------\n",
      "-0.0 |-0.0 |-0.0 |\n",
      " State Values for any_visit MC state estiamtion \n",
      "\n",
      "\n",
      "---------------\n",
      "0.0 |0.0 |0.0 |\n",
      "---------------\n",
      "-0.0 |0.0 |0 |\n",
      "---------------\n",
      "-0.0 |-0.0 |0.0 |"
     ]
    }
   ],
   "source": [
    " # evaluate state values for policy_fast for both first-vist and any-vist\n",
    "print('\\n State Values for first_visit MC state estiamtion \\n')\n",
    "a.mc_predict_v()\n",
    "a.print_v()\n",
    "\n",
    "print('\\n State Values for any_visit MC state estiamtion \\n')\n",
    "a.mc_predict_v(first_visit=False)\n",
    "a.print_v()"
   ]
  },
  {
   "cell_type": "markdown",
   "metadata": {},
   "source": [
    "**Q3** \n",
    "\n",
    "The Monte Carlo rollout itself has been implemented in `simple_grid_agent.py` inside the `run_episode` method.\n",
    "\n",
    "**Implement** \n",
    "\n",
    "First-visit as well as any-visit Monte Carlo state-action value estimation equations inside `mc_predict_q` in `simple_grid_agent.py`\n",
    "These have been discussed in class. Refer to Sutton and Barto Chapter 5 for further details to implement them.\n",
    "\n",
    "Test and report inside this notebook the results using the following commands. Are there sufficient differences in the state values under anyvisit and firstvisit MC Q value Prediction? Why?"
   ]
  },
  {
   "cell_type": "code",
   "execution_count": null,
   "metadata": {},
   "outputs": [],
   "source": [
    "# evaluate state action values for policy_fast\n",
    "print('\\n State action Values for first_visit MC state action estiamtion \\n')\n",
    "a.mc_predict_q()\n",
    "print('\\n Actions', env.action_text, '\\n')\n",
    "for i in a.q: print(i,a.q[i])\n",
    "    \n",
    "# evaluate state action values for policy_fast\n",
    "print('\\n State action Values for any_visit MC state action estiamtion \\n')\n",
    "a.mc_predict_q(first_visit=False)\n",
    "print('\\n Actions', env.action_text, '\\n')\n",
    "for i in a.q: print(i,a.q[i])"
   ]
  },
  {
   "cell_type": "markdown",
   "metadata": {},
   "source": [
    "**Q4**\n",
    "\n",
    "Now we implement Monte Carlo control using state-action values. \n",
    "\n",
    "**Implement**\n",
    "\n",
    "Complete the snippet in `mc_control_q` inside `simple_grid_agent.py`\n",
    "\n",
    "Test and report inside this notebook the results using the following commands"
   ]
  },
  {
   "cell_type": "code",
   "execution_count": null,
   "metadata": {},
   "outputs": [],
   "source": [
    "#stochastic environment\n",
    "env = gridworld(wind_p=0.2)\n",
    "\n",
    "#initial policy\n",
    "policy_fast = {(0, 0): 3,\n",
    "          (0, 1): 3,\n",
    "          (0, 2): 2,\n",
    "          (1, 0): 3,\n",
    "          (1, 1): 3,\n",
    "          (1, 2): 0,\n",
    "          (2, 0): 3,\n",
    "          (2, 1): 0,\n",
    "          (2, 2): 0}\n",
    "\n",
    "#stochastic agent - epsilon greedy with decays\n",
    "a = Agent(env, policy = policy_fast, gamma = 0.9, \n",
    "        start_epsilon=0.9,end_epsilon=0.3,epsilon_decay=0.9)\n",
    "\n",
    "# Run MC Control\n",
    "a.mc_control_q(n_episode = 1000,first_visit=False)\n",
    "a.print_policy()\n",
    "\n",
    "print('\\n Actions: {env.action_text} \\n')\n",
    "for i in a.q: print(i,a.q[i])"
   ]
  },
  {
   "cell_type": "markdown",
   "metadata": {},
   "source": [
    "**Q5**\n",
    "\n",
    "Bonus!\n",
    "\n",
    "**Implement**\n",
    "\n",
    "Greedy within The Limit of  Iinfinite Exploration MC Control in `mc_control_glie` function inside `simple_grid_agent.py`\n",
    "\n",
    "Test and report inside this notebook the results using the following commands"
   ]
  },
  {
   "cell_type": "code",
   "execution_count": null,
   "metadata": {},
   "outputs": [],
   "source": [
    "#stochastic environment\n",
    "env = gridworld(wind_p=0.2)\n",
    "\n",
    "#initial policy\n",
    "policy_fast = {(0, 0): 3,\n",
    "          (0, 1): 3,\n",
    "          (0, 2): 2,\n",
    "          (1, 0): 3,\n",
    "          (1, 1): 3,\n",
    "          (1, 2): 0,\n",
    "          (2, 0): 3,\n",
    "          (2, 1): 0,\n",
    "          (2, 2): 0}\n",
    "\n",
    "#stochastic agent - epsilon greedy with decays\n",
    "a = Agent(env, policy = policy_fast, gamma = 0.9, \n",
    "        start_epsilon=0.9,end_epsilon=0.3,epsilon_decay=0.9)\n",
    "\n",
    "a.mc_control_glie(n_episode = 1000)\n",
    "a.print_policy()\n",
    "print('\\n Actions', env.action_text, '\\n')\n",
    "for i in a.q: print(i,a.q[i])"
   ]
  }
 ],
 "metadata": {
  "interpreter": {
   "hash": "aee8b7b246df8f9039afb4144a1f6fd8d2ca17a180786b69acc140d282b71a49"
  },
  "kernelspec": {
   "display_name": "Python 3.8.6 64-bit",
   "name": "python3"
  },
  "language_info": {
   "codemirror_mode": {
    "name": "ipython",
    "version": 3
   },
   "file_extension": ".py",
   "mimetype": "text/x-python",
   "name": "python",
   "nbconvert_exporter": "python",
   "pygments_lexer": "ipython3",
   "version": "3.8.6"
  },
  "latex_envs": {
   "LaTeX_envs_menu_present": true,
   "autoclose": false,
   "autocomplete": true,
   "bibliofile": "biblio.bib",
   "cite_by": "apalike",
   "current_citInitial": 1,
   "eqLabelWithNumbers": true,
   "eqNumInitial": 1,
   "hotkeys": {
    "equation": "Ctrl-E",
    "itemize": "Ctrl-I"
   },
   "labels_anchors": false,
   "latex_user_defs": false,
   "report_style_numbering": false,
   "user_envs_cfg": false
  },
  "toc": {
   "base_numbering": 1,
   "nav_menu": {},
   "number_sections": true,
   "sideBar": true,
   "skip_h1_title": false,
   "title_cell": "Table of Contents",
   "title_sidebar": "Contents",
   "toc_cell": false,
   "toc_position": {},
   "toc_section_display": true,
   "toc_window_display": false
  }
 },
 "nbformat": 4,
 "nbformat_minor": 5
}
